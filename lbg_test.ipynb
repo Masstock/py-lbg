{
 "cells": [
  {
   "cell_type": "code",
   "execution_count": 2,
   "metadata": {},
   "outputs": [
    {
     "name": "stdout",
     "output_type": "stream",
     "text": [
      "generating codebook for size 1\noutput:\n> [0.375, -0.375, 0.6624999999999999], abs_weight=8, rel_weight=1.000000\ngenerating codebook for size 2\noutput:\n> [0.5, 1.625, 3.4499999999999997], abs_weight=4, rel_weight=0.500000\n> [0.25, -2.375, -2.125], abs_weight=4, rel_weight=0.500000\ngenerating codebook for size 4\noutput:\n> [-0.25, 2.0, 5.3], abs_weight=2, rel_weight=0.250000\n> [1.25, 1.25, 1.6], abs_weight=2, rel_weight=0.250000\n> [1.0, -2.5, -2.833333333333333], abs_weight=3, rel_weight=0.375000\n> [-2.0, -2.0, 0.0], abs_weight=1, rel_weight=0.125000\ngenerating codebook for size 8\noutput:\n> [1.0, 2.0, 5.6], abs_weight=1, rel_weight=0.125000\n> [-1.5, 2.0, 5.0], abs_weight=1, rel_weight=0.125000\n> [1.0, 1.0, 2.0], abs_weight=1, rel_weight=0.125000\n> [1.5, 1.5, 1.2], abs_weight=1, rel_weight=0.125000\n> [1.0, -2.5, -4.5], abs_weight=1, rel_weight=0.125000\n> [1.0, -2.5, -2.0], abs_weight=2, rel_weight=0.250000\n> [-2.00002, -2.00002, 0.0], abs_weight=0, rel_weight=0.000000\n> [-2.0, -2.0, 0.0], abs_weight=1, rel_weight=0.125000\n"
     ]
    }
   ],
   "source": [
    "import lbg\n",
    "\n",
    "testdata = [(-1.5, 2.0, 5.0),\n",
    "            (-2.0, -2.0, 0.0),\n",
    "            (1.0, 1.0, 2.0),\n",
    "            (1.5, 1.5, 1.2),\n",
    "            (1.0, 2.0, 5.6),\n",
    "            (1.0, -2.0, -2.0),\n",
    "            (1.0, -3.0, -2.0),\n",
    "            (1.0, -2.5, -4.5)]\n",
    "\n",
    "for cb_size in (1, 2, 4, 8):\n",
    "    print('generating codebook for size', cb_size)\n",
    "    cb, cb_abs_w, cb_rel_w = lbg.generate_codebook(testdata, cb_size)\n",
    "    print('output:')\n",
    "    for i, c in enumerate(cb):\n",
    "        print('> %s, abs_weight=%d, rel_weight=%f' % (c, cb_abs_w[i], cb_rel_w[i]))"
   ]
  },
  {
   "cell_type": "code",
   "execution_count": 32,
   "metadata": {},
   "outputs": [
    {
     "data": {
      "text/plain": [
       "<matplotlib.collections.PathCollection at 0x109484748>"
      ]
     },
     "execution_count": 32,
     "output_type": "execute_result",
     "metadata": {}
    },
    {
     "data": {
      "image/png": "[encoded data removed]"
     },
     "output_type": "display_data",
     "text": [
      "<matplotlib.figure.Figure at 0x109447710>"
     ],
     "metadata": {}
    }
   ],
   "source": [
    "import random\n",
    "import matplotlib.pyplot as plt\n",
    "\n",
    "import lbg\n",
    "\n",
    "%matplotlib inline\n",
    "\n",
    "N = 16\n",
    "SIZE_CODEBOOK = 8\n",
    "\n",
    "random.seed(0)\n",
    "population = [(random.gauss(0, 1), random.gauss(0, 1))\n",
    "              for _ in range(N)]\n",
    "\n",
    "plt.scatter([p[0] for p in population], [p[1] for p in population], marker='x', color='blue')\n",
    "\n",
    "cb, cb_abs_w, cb_rel_w = lbg.generate_codebook(population, SIZE_CODEBOOK)\n",
    "plt.scatter([p[0] for p in cb], [p[1] for p in cb], s=[((w+1) ** 5) * 40 for w in cb_rel_w], marker='o', color='red')\n"
   ]
  },
  {
   "cell_type": "code",
   "execution_count": 8,
   "metadata": {},
   "outputs": [],
   "source": [
    ""
   ]
  },
  {
   "cell_type": "code",
   "execution_count": null,
   "metadata": {},
   "outputs": [],
   "source": [
    ""
   ]
  }
 ],
 "metadata": {},
 "nbformat": 4,
 "nbformat_minor": 0
}